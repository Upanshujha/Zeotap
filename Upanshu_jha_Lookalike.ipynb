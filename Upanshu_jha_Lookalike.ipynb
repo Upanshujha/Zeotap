{
  "nbformat": 4,
  "nbformat_minor": 0,
  "metadata": {
    "colab": {
      "provenance": [],
      "authorship_tag": "ABX9TyPdHC9gGzb/wlgSOOIy7y99",
      "include_colab_link": true
    },
    "kernelspec": {
      "name": "python3",
      "display_name": "Python 3"
    },
    "language_info": {
      "name": "python"
    }
  },
  "cells": [
    {
      "cell_type": "markdown",
      "metadata": {
        "id": "view-in-github",
        "colab_type": "text"
      },
      "source": [
        "<a href=\"https://colab.research.google.com/github/Upanshujha/Zeotap/blob/main/Upanshu_jha_Lookalike.ipynb\" target=\"_parent\"><img src=\"https://colab.research.google.com/assets/colab-badge.svg\" alt=\"Open In Colab\"/></a>"
      ]
    },
    {
      "cell_type": "code",
      "execution_count": 1,
      "metadata": {
        "id": "Bf7V8sMw2v1-"
      },
      "outputs": [],
      "source": [
        "import pandas as pd\n",
        "from sklearn.preprocessing import StandardScaler, OneHotEncoder\n",
        "from sklearn.compose import ColumnTransformer\n",
        "from sklearn.metrics.pairwise import cosine_similarity\n",
        "from datetime import datetime"
      ]
    },
    {
      "cell_type": "code",
      "source": [
        "# Load data\n",
        "customers = pd.read_csv(\"/content/Customers.csv\")\n",
        "products = pd.read_csv(\"/content/Products.csv\")\n",
        "transactions = pd.read_csv(\"/content/Transactions.csv\")"
      ],
      "metadata": {
        "id": "xorN9cqV7Xqx"
      },
      "execution_count": 2,
      "outputs": []
    },
    {
      "cell_type": "code",
      "source": [
        "# Preprocess transactions\n",
        "transactions['TransactionDate'] = pd.to_datetime(transactions['TransactionDate'])"
      ],
      "metadata": {
        "id": "2OJPXsUo7iqS"
      },
      "execution_count": 3,
      "outputs": []
    },
    {
      "cell_type": "code",
      "source": [
        "# Merge datasets\n",
        "merged = transactions.merge(customers, on='CustomerID').merge(products, on='ProductID')"
      ],
      "metadata": {
        "id": "QR7Rqi9c7pyo"
      },
      "execution_count": 4,
      "outputs": []
    },
    {
      "cell_type": "code",
      "source": [
        "# Feature engineering\n",
        "customer_features = merged.groupby('CustomerID').agg(\n",
        "    total_spent=('TotalValue', 'sum'),\n",
        "    avg_transaction_value=('TotalValue', 'mean'),\n",
        "    purchase_frequency=('TransactionID', 'count'),\n",
        "    favorite_category=('Category', lambda x: x.mode()[0]),\n",
        "    last_purchase=('TransactionDate', max)\n",
        ").reset_index()"
      ],
      "metadata": {
        "colab": {
          "base_uri": "https://localhost:8080/"
        },
        "id": "rUbUZCCX7u3U",
        "outputId": "504f6e62-01b7-45d8-c734-11920e02eee7"
      },
      "execution_count": 5,
      "outputs": [
        {
          "output_type": "stream",
          "name": "stderr",
          "text": [
            "<ipython-input-5-4db0c9f49286>:2: FutureWarning: The provided callable <built-in function max> is currently using SeriesGroupBy.max. In a future version of pandas, the provided callable will be used directly. To keep current behavior pass the string \"max\" instead.\n",
            "  customer_features = merged.groupby('CustomerID').agg(\n"
          ]
        }
      ]
    },
    {
      "cell_type": "code",
      "source": [
        "# Add customer metadata\n",
        "customer_features = customer_features.merge(customers, on='CustomerID')"
      ],
      "metadata": {
        "id": "9LERUEKI7zc1"
      },
      "execution_count": 6,
      "outputs": []
    },
    {
      "cell_type": "code",
      "source": [
        "# Calculate tenure and recency\n",
        "customer_features['SignupDate'] = pd.to_datetime(customer_features['SignupDate'])\n",
        "customer_features['tenure'] = (datetime.now() - customer_features['SignupDate']).dt.days\n",
        "customer_features['recency'] = (datetime.now() - customer_features['last_purchase']).dt.days"
      ],
      "metadata": {
        "id": "0wKBGc9873uQ"
      },
      "execution_count": 7,
      "outputs": []
    },
    {
      "cell_type": "code",
      "source": [
        "# Preprocessing pipeline\n",
        "preprocessor = ColumnTransformer(\n",
        "    transformers=[\n",
        "        ('num', StandardScaler(), ['total_spent', 'avg_transaction_value',\n",
        "                                 'purchase_frequency', 'tenure', 'recency']),\n",
        "        ('cat', OneHotEncoder(), ['favorite_category', 'Region'])\n",
        "    ])\n",
        "\n",
        "processed_features = preprocessor.fit_transform(\n",
        "    customer_features[['total_spent', 'avg_transaction_value', 'purchase_frequency',\n",
        "                     'favorite_category', 'Region', 'tenure', 'recency']]\n",
        ")"
      ],
      "metadata": {
        "id": "Sue9F-sj77kS"
      },
      "execution_count": 8,
      "outputs": []
    },
    {
      "cell_type": "code",
      "source": [
        "# Calculate similarity matrix\n",
        "similarity_matrix = cosine_similarity(processed_features)"
      ],
      "metadata": {
        "id": "rD0PJ0yt8A57"
      },
      "execution_count": 9,
      "outputs": []
    },
    {
      "cell_type": "code",
      "source": [
        "# Generate lookalike mappings\n",
        "lookalike_map = []\n",
        "target_customers = [f\"C00{i:02d}\" for i in range(1, 21)]\n",
        "\n",
        "for cust_id in target_customers:\n",
        "    try:\n",
        "        idx = customer_features.index[customer_features['CustomerID'] == cust_id].tolist()[0]\n",
        "        scores = list(enumerate(similarity_matrix[idx]))\n",
        "        # Exclude self and get top 3\n",
        "        sorted_scores = sorted(scores, key=lambda x: x[1], reverse=True)[1:4]\n",
        "\n",
        "        # Create list of (cust_id, score) tuples\n",
        "        lookalikes = [\n",
        "            (customer_features.iloc[i]['CustomerID'], round(score, 4))\n",
        "            for i, score in sorted_scores\n",
        "        ]\n",
        "\n",
        "        lookalike_map.append({\n",
        "            'CustomerID': cust_id,\n",
        "            'Lookalikes': lookalikes\n",
        "        })\n",
        "    except IndexError:\n",
        "        print(f\"Customer {cust_id} not found in features\")\n",
        "    except Exception as e:\n",
        "        print(f\"Error processing {cust_id}: {str(e)}\")"
      ],
      "metadata": {
        "id": "EYYVuznz8EkB"
      },
      "execution_count": 10,
      "outputs": []
    },
    {
      "cell_type": "code",
      "source": [
        "# Convert to DataFrame and save\n",
        "lookalike_df = pd.DataFrame(lookalike_map)"
      ],
      "metadata": {
        "id": "CrPhOK048Mwm"
      },
      "execution_count": 11,
      "outputs": []
    },
    {
      "cell_type": "code",
      "source": [
        "# Format the lookalikes column as required\n",
        "lookalike_df['Lookalikes'] = lookalike_df['Lookalikes'].apply(\n",
        "    lambda x: [f\"{cust_id},{score}\" for cust_id, score in x]\n",
        ")\n",
        "\n",
        "lookalike_df.to_csv(\"Lookalike.csv\", index=False)"
      ],
      "metadata": {
        "id": "Y61rAAbt8Sy6"
      },
      "execution_count": 12,
      "outputs": []
    }
  ]
}